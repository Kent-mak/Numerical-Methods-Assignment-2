{
 "cells": [
  {
   "cell_type": "code",
   "execution_count": null,
   "metadata": {},
   "outputs": [],
   "source": [
    "import numpy as np\n",
    "import matplotlib.pyplot as plt\n",
    "from solution_methods import gaussian_elimination, floor_precision, LU_factorize, Jacobi"
   ]
  },
  {
   "cell_type": "markdown",
   "metadata": {},
   "source": [
    "# Question 1\n",
    "Use Gaussian elimination with partial pivoting to solve the following equations(given as the augmented matrix). Are any row interchanges needed?"
   ]
  },
  {
   "cell_type": "code",
   "execution_count": null,
   "metadata": {},
   "outputs": [],
   "source": [
    "import numpy as np\n",
    "from solution_methods import gaussian_elimination\n",
    "\n",
    "eq = np.array([\n",
    "    [3, 1, -4, 7],\n",
    "    [-2, 3, 1, -5],\n",
    "    [2, 0, 5, 10]\n",
    "])\n",
    "\n",
    "gaussian_elimination(eq)\n"
   ]
  },
  {
   "cell_type": "markdown",
   "metadata": {},
   "source": [
    "# Question 2\n",
    "Graph this system\n",
    "$ 0.1x + 51.7y = 104 \\\\ 5.1x - 7.3y = 16"
   ]
  },
  {
   "cell_type": "code",
   "execution_count": null,
   "metadata": {},
   "outputs": [],
   "source": [
    "import numpy as np\n",
    "import matplotlib.pyplot as plt\n",
    "\n",
    "f1 =  lambda x: (104 - 0.1*x) / 51.7\n",
    "f2 = lambda x: (16 - 5.1*x) / -7.3\n",
    "\n",
    "x = np.linspace(1, 10, 500)\n",
    "y1 = f1(x)\n",
    "y2 = f2(x)\n",
    "\n",
    "plt.plot(x, y1, label='0.1x + 51.7y = 104')\n",
    "plt.plot(x, y2, label='5.1x - 7.3y = 16')\n",
    "plt.plot(6, 2)\n",
    "plt.legend()\n",
    "plt.show()"
   ]
  },
  {
   "cell_type": "markdown",
   "metadata": {},
   "source": [
    "(a) Solve using three significant digits of precision and no row interchanges. Compare the answer to the correct value. "
   ]
  },
  {
   "cell_type": "code",
   "execution_count": null,
   "metadata": {},
   "outputs": [],
   "source": [
    "import numpy as np\n",
    "from solution_methods import gaussian_elimination, floor_precision\n",
    "\n",
    "eq = np.array([\n",
    "        [0.1, 51.7, 104],\n",
    "        [5.1, -7.3, 16]\n",
    "    ])\n",
    "\n",
    "solution = gaussian_elimination(eq, precision=3)\n",
    "solution = [floor_precision(i, 3) for i in solution]\n",
    "print(solution)"
   ]
  },
  {
   "cell_type": "markdown",
   "metadata": {},
   "source": [
    "(b) Repeat part (a) but do partial pivoting"
   ]
  },
  {
   "cell_type": "code",
   "execution_count": null,
   "metadata": {},
   "outputs": [],
   "source": [
    "from solution_methods import gaussian_elimination, floor_precision\n",
    "eq = np.array([\n",
    "    [0.1, 51.7, 104],\n",
    "    [5.1, -7.3, 16]\n",
    "])\n",
    "\n",
    "solution = gaussian_elimination(eq, precision=3, pivot=1)\n",
    "solution = [floor_precision(i, 3) for i in solution]\n",
    "print(solution)"
   ]
  },
  {
   "cell_type": "markdown",
   "metadata": {},
   "source": [
    "(c) Repeat part (a) but use scaled partial pivoting. Which of part (a) or (b) does this match, if any?\n"
   ]
  },
  {
   "cell_type": "code",
   "execution_count": null,
   "metadata": {},
   "outputs": [],
   "source": [
    "\n",
    "import numpy as np\n",
    "from solution_methods import gaussian_elimination, floor_precision\n",
    "\n",
    "eq = np.array([\n",
    "        [0.1, 51.7, 104],\n",
    "        [5.1, -7.3, 16]\n",
    "    ])\n",
    "\n",
    "solution = gaussian_elimination(eq, precision=3, pivot=2)\n",
    "solution = [floor_precision(i, 3) for i in solution]\n",
    "print(solution)"
   ]
  },
  {
   "cell_type": "markdown",
   "metadata": {},
   "source": [
    "# Question 3\n",
    "Given system A:"
   ]
  },
  {
   "cell_type": "code",
   "execution_count": null,
   "metadata": {},
   "outputs": [],
   "source": [
    "import numpy as np\n",
    "from solution_methods import LU_factorize\n",
    "\n",
    "\n",
    "A = np.array([\n",
    "    [2, -1, 3, 2],\n",
    "    [2, 2, 0, 4],\n",
    "    [1, 1, -2, 2],\n",
    "    [1, 3, 4, -1]\n",
    "])\n",
    "\n",
    "L, U = LU_factorize(A, 2)\n",
    "\n",
    "print('L: ')\n",
    "print(f'{L}\\n')\n",
    "\n",
    "print('U:')\n",
    "print(U)\n"
   ]
  },
  {
   "cell_type": "markdown",
   "metadata": {},
   "source": [
    "# Question 4"
   ]
  },
  {
   "cell_type": "code",
   "execution_count": null,
   "metadata": {},
   "outputs": [],
   "source": [
    "\n",
    "import numpy as np\n",
    "from solution_methods import Jacobi\n",
    "\n",
    "A = np.array([\n",
    "    [7, -3, 4],\n",
    "    [2, 5, 3],\n",
    "    [-3, 2, 6]\n",
    "    \n",
    "])\n",
    "\n",
    "b = np.array([6, 2,-5])\n",
    "\n",
    "x, residual, iterations = Jacobi(A, b, np.array([0., 0., 0.]))\n",
    "print(f'solution: {x}')\n",
    "print(f'residual: {residual}')\n",
    "print(f'iterations needed: {iterations}')"
   ]
  },
  {
   "cell_type": "markdown",
   "metadata": {},
   "source": [
    "# Question 5"
   ]
  },
  {
   "cell_type": "code",
   "execution_count": null,
   "metadata": {},
   "outputs": [],
   "source": [
    "import numpy as np\n",
    "from solution_methods import gauss_seidel\n",
    "\n",
    "A = np.array([\n",
    "    [7, -3, 4],\n",
    "    [2, 5, 3],\n",
    "    [-3, 2, 6]\n",
    "    \n",
    "])\n",
    "\n",
    "b = np.array([6, 2,-5])\n",
    "\n",
    "x, residual, iterations = gauss_seidel(A, b, np.array([0., 0., 0.]))\n",
    "print(f'solution: {x}')\n",
    "print(f'residual: {residual}')\n",
    "print(f'iterations needed: {iterations}')"
   ]
  },
  {
   "cell_type": "markdown",
   "metadata": {},
   "source": [
    "# Question 6 \n",
    "This 2 × 2 matrix is obviously singular and is almost diagonally dominant. If the right-hand-side vector is [0, 0], the equations are satisfied by any pair where x = y"
   ]
  },
  {
   "cell_type": "markdown",
   "metadata": {},
   "source": [
    "(a) What happens if you use the Jacobi method with these starting vectors: [1, 1], [1, -1], [-1, 1], [2, 5], [5, 2]?"
   ]
  },
  {
   "cell_type": "code",
   "execution_count": null,
   "metadata": {},
   "outputs": [],
   "source": [
    "\n",
    "import numpy as np\n",
    "from solution_methods import Jacobi\n",
    "\n",
    "A = np.array([\n",
    "    [2, -2],\n",
    "    [-2, 2]\n",
    "])\n",
    "\n",
    "b = np.array([0, 0])\n",
    "vec = np.array( [2, 5]) # change value for each starting value\n",
    "\n",
    "x, residual, iterations = Jacobi(A, b, vec)\n",
    "print(f'solution: {x}')\n",
    "print(f'residual: {residual}')\n",
    "print(f'iterations needed: {iterations}')"
   ]
  },
  {
   "cell_type": "markdown",
   "metadata": {},
   "source": [
    "(b) What happens if the Gauss-Seidel method is used with the same starting vectors\n",
    "as in part (a)?"
   ]
  },
  {
   "cell_type": "code",
   "execution_count": null,
   "metadata": {},
   "outputs": [],
   "source": [
    "import numpy as np\n",
    "from solution_methods import gauss_seidel\n",
    "\n",
    "A = np.array([\n",
    "    [2, -2],\n",
    "    [-2, 2]\n",
    "])\n",
    "\n",
    "b = np.array([0, 0])\n",
    "vec = np.array( [5, 2]) # change value for each starting value\n",
    "\n",
    "x, residual, iterations = gauss_seidel(A, b, vec)\n",
    "print(f'solution: {x}')\n",
    "print(f'residual: {residual}')\n",
    "print(f'iterations needed: {iterations}')"
   ]
  },
  {
   "cell_type": "markdown",
   "metadata": {},
   "source": [
    "(c)If the elements whose values are -2 in the matrix are changed slightly, to -1.99, the matrix is no longer singular but is almost singular. Repeat parts (a) and (b) with these new matrix."
   ]
  },
  {
   "cell_type": "code",
   "execution_count": null,
   "metadata": {},
   "outputs": [],
   "source": [
    "import numpy as np\n",
    "from solution_methods import Jacobi\n",
    "\n",
    "A = np.array([\n",
    "    [2, -1.99],\n",
    "    [-1.99, 2]\n",
    "])\n",
    "\n",
    "b = np.array([0, 0])\n",
    "vec = np.array( [1, -1]) # change value for each starting value\n",
    "\n",
    "x, residual, iterations = Jacobi(A, b, vec)\n",
    "print(f'solution: {x}')\n",
    "print(f'residual: {residual}')\n",
    "print(f'iterations needed: {iterations}')"
   ]
  },
  {
   "cell_type": "code",
   "execution_count": null,
   "metadata": {},
   "outputs": [],
   "source": [
    "import numpy as np\n",
    "from solution_methods import gauss_seidel\n",
    "\n",
    "A = np.array([\n",
    "    [2, -1.99],\n",
    "    [-1.99, 2]\n",
    "])\n",
    "\n",
    "b = np.array([0, 0])\n",
    "vec = np.array( [1, -1]) # change value for each starting value\n",
    "\n",
    "x, residual, iterations = gauss_seidel(A, b, vec)\n",
    "print(f'solution: {x}')\n",
    "print(f'residual: {residual}')\n",
    "print(f'iterations needed: {iterations}')"
   ]
  }
 ],
 "metadata": {
  "kernelspec": {
   "display_name": "numericalAnalysisEnv",
   "language": "python",
   "name": "python3"
  },
  "language_info": {
   "codemirror_mode": {
    "name": "ipython",
    "version": 3
   },
   "file_extension": ".py",
   "mimetype": "text/x-python",
   "name": "python",
   "nbconvert_exporter": "python",
   "pygments_lexer": "ipython3",
   "version": "3.12.2"
  }
 },
 "nbformat": 4,
 "nbformat_minor": 2
}
